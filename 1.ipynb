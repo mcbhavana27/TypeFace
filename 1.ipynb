{
  "nbformat": 4,
  "nbformat_minor": 0,
  "metadata": {
    "colab": {
      "provenance": []
    },
    "kernelspec": {
      "name": "python3",
      "display_name": "Python 3"
    },
    "language_info": {
      "name": "python"
    }
  },
  "cells": [
    {
      "cell_type": "code",
      "source": [
        "import matplotlib.pyplot as plt\n",
        "import numpy as np\n",
        "import cv2\n",
        "import sys"
      ],
      "metadata": {
        "id": "Hxwn2f5D_yCH"
      },
      "execution_count": 32,
      "outputs": []
    },
    {
      "cell_type": "code",
      "source": [
        "def unite(a, link):\n",
        "    if link[a] == a:\n",
        "        return a\n",
        "    else:\n",
        "        link[a] = unite(link[a], link)\n",
        "        return link[a]"
      ],
      "metadata": {
        "id": "hqLMVd57_6xd"
      },
      "execution_count": 2,
      "outputs": []
    },
    {
      "cell_type": "code",
      "source": [
        "def unionSet(a, b, link):\n",
        "    link[unite(a, link)] = unite(b, link)"
      ],
      "metadata": {
        "id": "YYUgM5hL_7tZ"
      },
      "execution_count": 3,
      "outputs": []
    },
    {
      "cell_type": "code",
      "execution_count": 51,
      "metadata": {
        "id": "JMWbX83A-okX"
      },
      "outputs": [],
      "source": [
        "def connComponents(img):\n",
        "    next_label = 1;\n",
        "    labelling = np.zeros(img.shape, dtype=int)\n",
        "    link = [0]\n",
        "    h, l = img.shape\n",
        "    for row in range(h):\n",
        "        for col in range(l):\n",
        "            if img[row, col] != 0:\n",
        "                neighbours = []\n",
        "                if row > 0:\n",
        "                    if img[row-1][col] == img[row, col]: neighbours.append((row-1, col))\n",
        "                if col > 0:\n",
        "                    if (img[row, col-1] == img[row, col]):  neighbours.append((row, col-1))\n",
        "                if row > 0 and col > 0:\n",
        "                    if img[row-1, col-1] == img[row, col]: neighbours.append((row-1, col-1)) \n",
        "                if row > 0 and col + 1 < img.shape[1]:\n",
        "                    if img[row-1, col+1] == img[row, col]: neighbours.append((row-1, col+1))\n",
        "                       \n",
        "                if len(neighbours) == 0:\n",
        "                    labelling[row, col] = next_label\n",
        "                    link.append(next_label)\n",
        "                    next_label += 1\n",
        "                \n",
        "                else:\n",
        "                    L = [labelling[r, c] for r, c in neighbours]\n",
        "                    labelling[row, col] = min(L)\n",
        "                    for label in L:\n",
        "                        unionSet(label, labelling[row, col], link)\n",
        "                        \n",
        "    for row in range(h):\n",
        "        for col in range(l):\n",
        "            if img[row, col] != 0:\n",
        "                labelling[row, col] = unite(labelling[row, col], link)\n",
        "    return labelling"
      ]
    },
    {
      "cell_type": "code",
      "source": [
        "def convert_fg_bg(img):\n",
        "  fimg=img.copy()\n",
        "  for i in range(img.shape[0]):\n",
        "    for j in range(img.shape[1]):\n",
        "      if(img[i][j]<125):\n",
        "        fimg[i][j]=0\n",
        "      else:\n",
        "        fimg[i][j]=1\n",
        "  return fimg"
      ],
      "metadata": {
        "id": "eX-CZMqRCd3n"
      },
      "execution_count": 52,
      "outputs": []
    },
    {
      "cell_type": "code",
      "source": [
        "img1 = cv2.imread(\"/content/iiit-test-image1.png\",0)\n",
        "fimg = convert_fg_bg(img1)\n",
        "plt.subplot(1,2,1)\n",
        "print(np.unique(fimg))\n",
        "plt.imshow(fimg, cmap=\"gray\")\n",
        "plt.subplot(1,2,2)\n",
        "cimg = connComponents(fimg)\n",
        "vals,cnts=np.unique(cimg, return_counts=True)\n",
        "plt.imshow(cimg, cmap=\"gray\")"
      ],
      "metadata": {
        "colab": {
          "base_uri": "https://localhost:8080/",
          "height": 239
        },
        "id": "VJD7mtmm_yFc",
        "outputId": "742e274a-eaca-4800-b116-975164f2c652"
      },
      "execution_count": 56,
      "outputs": [
        {
          "output_type": "stream",
          "name": "stdout",
          "text": [
            "[0 1]\n"
          ]
        },
        {
          "output_type": "execute_result",
          "data": {
            "text/plain": [
              "<matplotlib.image.AxesImage at 0x7f9e0696fbb0>"
            ]
          },
          "metadata": {},
          "execution_count": 56
        },
        {
          "output_type": "display_data",
          "data": {
            "text/plain": [
              "<Figure size 432x288 with 2 Axes>"
            ],
            "image/png": "[encoded data removed]"
          },
          "metadata": {
            "needs_background": "light"
          }
        }
      ]
    },
    {
      "cell_type": "code",
      "source": [
        "boxes=[]\n",
        "# print(vals,cnts)\n",
        "# print(fimg.shape)\n",
        "for v in range(len(vals)):\n",
        "  val=vals[v]\n",
        "  if(val==0 or cnts[v]<10):\n",
        "    continue\n",
        "  box=[]\n",
        "  min_x=fimg.shape[0]\n",
        "  min_y=fimg.shape[1]\n",
        "  max_y=0\n",
        "  max_x=0\n",
        "  ff=0\n",
        "  for i in range(fimg.shape[0]):\n",
        "    for j in range(fimg.shape[1]):\n",
        "      if(cimg[i][j]==val):\n",
        "        min_x=min(min_x,i)\n",
        "        min_y=min(min_y,j)\n",
        "        max_x=max(max_x,i)\n",
        "        max_y=max(max_y,j)\n",
        "        ff+=1\n",
        "  # print(min_x,max_x,min_y,max_y,val,ff)\n",
        "  cx=int((min_x+max_x)/2)\n",
        "  cy=int((min_y+max_y)/2)\n",
        "  w=max_x-min_x\n",
        "  h=max_y-min_y\n",
        "  boxes.append([cx,cy,w,h])\n",
        "print(boxes)\n",
        "\n"
      ],
      "metadata": {
        "colab": {
          "base_uri": "https://localhost:8080/"
        },
        "id": "IFoFk1NJGNlk",
        "outputId": "7bd7cf5f-ceaf-4414-bc1e-37080eae7ac0"
      },
      "execution_count": 76,
      "outputs": [
        {
          "output_type": "stream",
          "name": "stdout",
          "text": [
            "[[176, 128, 216, 83], [177, 216, 216, 86]]\n"
          ]
        }
      ]
    },
    {
      "cell_type": "code",
      "source": [
        "img2 = cv2.imread(\"/content/iiit-test-image2.png\",0)\n",
        "fimg2 = convert_fg_bg(img2)\n",
        "plt.subplot(1,2,1)\n",
        "print(np.unique(fimg2))\n",
        "plt.imshow(fimg2, cmap=\"gray\")\n",
        "plt.subplot(1,2,2)\n",
        "cimg2 = connComponents(fimg2)\n",
        "vals2,cnts2=np.unique(cimg2, return_counts=True)\n",
        "plt.imshow(cimg2, cmap=\"gray\")"
      ],
      "metadata": {
        "colab": {
          "base_uri": "https://localhost:8080/",
          "height": 239
        },
        "id": "mN0CY9t0FUYg",
        "outputId": "42fd67cb-1c3f-495b-cac3-7aa3aa2d0009"
      },
      "execution_count": 77,
      "outputs": [
        {
          "output_type": "stream",
          "name": "stdout",
          "text": [
            "[0 1]\n"
          ]
        },
        {
          "output_type": "execute_result",
          "data": {
            "text/plain": [
              "<matplotlib.image.AxesImage at 0x7f9e04b48f70>"
            ]
          },
          "metadata": {},
          "execution_count": 77
        },
        {
          "output_type": "display_data",
          "data": {
            "text/plain": [
              "<Figure size 432x288 with 2 Axes>"
            ],
            "image/png": "[encoded data removed]"
          },
          "metadata": {
            "needs_background": "light"
          }
        }
      ]
    },
    {
      "cell_type": "code",
      "source": [
        "boxes=[]\n",
        "# print(vals2,cnts2)\n",
        "# print(fimg2.shape)\n",
        "for v in range(len(vals2)):\n",
        "  val=vals2[v]\n",
        "  if(val==0 or cnts2[v]<10):\n",
        "    continue\n",
        "  box=[]\n",
        "  min_x=fimg2.shape[0]\n",
        "  min_y=fimg2.shape[1]\n",
        "  max_y=0\n",
        "  max_x=0\n",
        "  for i in range(fimg2.shape[0]):\n",
        "    for j in range(fimg2.shape[1]):\n",
        "      if(cimg2[i][j]==val):\n",
        "        min_x=min(min_x,i)\n",
        "        min_y=min(min_y,j)\n",
        "        max_x=max(max_x,i)\n",
        "        max_y=max(max_y,j)\n",
        "  # print(min_x,max_x,min_y,max_y,val)\n",
        "  cx=int((min_x+max_x)/2)\n",
        "  cy=int((min_y+max_y)/2)\n",
        "  w=max_x-min_x\n",
        "  h=max_y-min_y\n",
        "  boxes.append([cx,cy,w,h])\n",
        "print(boxes)\n"
      ],
      "metadata": {
        "colab": {
          "base_uri": "https://localhost:8080/"
        },
        "id": "uFbnQhK7KDQk",
        "outputId": "dace123b-d4cd-41d8-bdda-15186331b08b"
      },
      "execution_count": 78,
      "outputs": [
        {
          "output_type": "stream",
          "name": "stdout",
          "text": [
            "[[247, 256, 238, 316]]\n"
          ]
        }
      ]
    },
    {
      "cell_type": "code",
      "source": [],
      "metadata": {
        "id": "Ks4C9N3KKNes"
      },
      "execution_count": null,
      "outputs": []
    }
  ]
}